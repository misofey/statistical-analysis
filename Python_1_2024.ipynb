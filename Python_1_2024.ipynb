{
 "cells": [
  {
   "cell_type": "markdown",
   "metadata": {},
   "source": [
    "# SC42150 - Statistical Signal Processing\n",
    "## Python Assignment I: Stock Market Analysis"
   ]
  },
  {
   "cell_type": "markdown",
   "metadata": {},
   "source": [
    "#### Team members\n",
    "\n",
    "- Name (student number):\n",
    "- Name (student number): \n",
    "\n",
    "---"
   ]
  },
  {
   "cell_type": "markdown",
   "metadata": {},
   "source": [
    "## Introduction\n",
    "\n",
    "The goal of this assignment is to help you get a more practical understanding of some of the concepts of Statistical Signal Processing. Specifically, you will work with stochastic processes and determine their moments, stationarity and ergodicity properties, and also try to detrend the data.\n",
    "\n",
    "In order to achieve those objectives, you will use the Python programming language, and specifically the modules numpy, scipy (for numerical processing) and matplotlib (for plotting). In case you are completely unfamiliar with Python, you should learn the basics before attempting this exercise. You are allowed to use numpy's implementations of common routines, such as mean or cov amongst other, but if you do so make sure you have read the documentation and are sure that they accomplish exactly what is taught in the lecture notes, as sometimes there are small differences in definitions and implementations. \n",
    "\n",
    "Finally, you are also going to use the Jupyter Notebook file format, which might require installing some dependencies on your system. You can find instructions on installing Jupyter [here](https://jupyter.org/install).\n",
    "\n",
    "## Reporting\n",
    "\n",
    "The report of this python exercise consists of this Jupyter Notebook file, with your answers added after each question. Answers will consist of code and/or text (markdown) cells. Please use the already indicated cells and format. You will **also** need to deliver a `PDF` version of this file.\n",
    "\n",
    "In order to create a PDF version of this file, go to the top left, click on `File` then `Export Notebook As` and Choose `PDF`.\n",
    "If this feature is not supported by your system, you can also choose `LaTeX`. \n",
    "Then, you can use your preferred `LaTeX` compiler to create the `PDF`. After generation you PDF report, please double check if all answers/plots are correctly displayed.\n",
    "\n",
    "Moreover, you will also need to send the `.npz` file with the signals used in this exercise. Don't forget to edit your team member's name and student number above. You will submit one Jupyter notebook per team."
   ]
  },
  {
   "cell_type": "markdown",
   "metadata": {},
   "source": [
    "##### Stock market analysis\n",
    "\n",
    "Lately you've been fascinated by the world of trading so you decided to learn more about it and see if you can learn any good strategies by examining the trading data and looking for patterns.\n",
    "\n",
    "You are given a `.npz` file containing historical price data of various stocks. We will make the assumption that all the timeseries are just different realizations of the same stochastic process.\n",
    "\n",
    "You will need to conduct the following steps to complete your investigation, each of which is worth 1 point:\n",
    "\n",
    "**1. (5 points)** Import the `.npz` file provided using `np.load()` as indicated below. You should now have access to a $N\\times K$ array, containing $K$ timeseries of historical price data of various stocks, each of length $N$. Plot the first one and also, in a new figure, plot the first 100 of them together. Label your axes and figures clearly."
   ]
  },
  {
   "cell_type": "code",
   "execution_count": 2,
   "metadata": {},
   "outputs": [],
   "source": [
    "import numpy as np\n",
    "import matplotlib.pyplot as plt\n",
    "from scipy.stats import multivariate_normal\n",
    "\n",
    "data = np.load('data2024.npz')\n",
    "S =  data['S']\n",
    "t =  data['t']\n"
   ]
  },
  {
   "cell_type": "code",
   "execution_count": 3,
   "metadata": {},
   "outputs": [],
   "source": [
    "# Implement your plots below\n"
   ]
  },
  {
   "cell_type": "markdown",
   "metadata": {},
   "source": [
    "**2. (15 points)** Using the data provided, perform a linear regression on the first timeseries from $S$. The linear regression model can be represented as:\n",
    "\n",
    "$$S[n +1]= a S[n] +e[n]$$\n",
    "\n",
    "where $a$ is unknown and $e$ is zero mean white noise.\n",
    "\n",
    "Specifically, fit a linear model to the price data and plot the best-fit line along with the original data usimg Least Square method. Label the axes and the figure clearly.\n"
   ]
  },
  {
   "cell_type": "code",
   "execution_count": 9,
   "metadata": {},
   "outputs": [],
   "source": [
    "# Implement your computations below\n",
    "from sklearn.linear_model import LinearRegression\n",
    "\n",
    "S1 = S[:, 0]  # Use the first timeseries\n",
    "\n",
    "t_reshaped = t.reshape(-1, 1)   # Reshape t for linear regression model\n",
    "\n",
    "model = None # Fit linear regression model\n",
    "\n",
    "# Implement your plots below\n",
    "\n"
   ]
  },
  {
   "cell_type": "markdown",
   "metadata": {},
   "source": [
    "**3. (15 points)** Consider the following nonlinear model\n",
    "\n",
    "$$S[n+1] = a_{1} S[n] + a_{2} S[n-1] + a_{3} S^{2}[n] + a_{4} S^{2}[n-1] + a_{5} S[n] S[n-1] + e[n]$$\n",
    "\n",
    "where $a_{1}, a_{2}, a_{3}, a_{4}, a_{5}$ are all unknowns and $e[n]$ is noise.\n",
    "\n",
    "Perform a non linear regression on the first timeseries from $S$ using least square method. Plot and label the axes and the figure clearly.\n"
   ]
  },
  {
   "cell_type": "code",
   "execution_count": null,
   "metadata": {},
   "outputs": [],
   "source": [
    "# Implement your computations below\n",
    "from sklearn.linear_model import LinearRegression\n",
    "\n",
    "S1 = S[:, 0]  # Use the first timeseries\n",
    "\n",
    "t_reshaped = t.reshape(-1, 1)   # Reshape t for linear regression model\n",
    "\n",
    "model = None # Fit linear regression model\n",
    "\n",
    "# Implement your plots below"
   ]
  },
  {
   "cell_type": "markdown",
   "metadata": {},
   "source": [
    "We will denote the generating stochastic process by $S_{n}\\sim f_{S_{n}}$, where $n=\\displaystyle \\frac{t}{\\Delta t}$ refers to the time index for $n=\\{0,1,\\ldots,999\\}$. Furthermore, we will denote its $k$-th realization by $S_{n}^{k}$ for $k=\\{1,2,\\ldots,1000\\}$.\n",
    "\n",
    "**4. (10 points)** Compute the ensemble mean and variance and plot each one in separate figures. Label your axes and figures clearly."
   ]
  },
  {
   "cell_type": "code",
   "execution_count": 7,
   "metadata": {},
   "outputs": [],
   "source": [
    "# Implement your computations below\n",
    "\n",
    "S_mean_ens = None # Ensemble mean of Sn\n",
    "S_variance_ens = None # Ensemble variance of Sn\n",
    "\n",
    "# Implement your plots below\n",
    "\n"
   ]
  },
  {
   "cell_type": "markdown",
   "metadata": {},
   "source": [
    "**5. (15 points)** Compute the covariance matrix $C_{S}$ and the correlation matrix $R_{S}$ for the process $S_n$ and $n =\\{0,1,\\ldots,999\\}$, and visualize them using the `plt.matshow()` command. What can you deduce from the plots? Is the process $S_{n}$ WSS? Justify your answer.\n",
    "\n",
    "**Note:** You are not allowed to use the `np.corrcoef`, `np.corrcoef` and `np.cov()` built-in functions."
   ]
  },
  {
   "cell_type": "code",
   "execution_count": 5,
   "metadata": {},
   "outputs": [],
   "source": [
    "# Implement your computations below\n",
    "\n",
    "C_S = None # Covariance matrix\n",
    "R_S = None # Correlation matrix\n",
    "\n",
    "# Implement your plots below\n",
    "\n",
    "\n"
   ]
  },
  {
   "cell_type": "markdown",
   "metadata": {},
   "source": [
    "**Answer:**\n",
    ">(Enter your answer here)"
   ]
  },
  {
   "cell_type": "markdown",
   "metadata": {},
   "source": [
    "\n",
    "A friend of yours who has been into trading for some time now, briefly looks at the data and tells you that the stock price changes can be explained by asset model like the following Equation (1):\n",
    "$$\n",
    "    S_{n+1} =\\alpha S_{n}^{\\beta} e^{z_n}, \\quad Z_{n}\\sim\\mathcal{N}(0,1)\n",
    "$$\n",
    "\n",
    "where $\\alpha$ and $\\beta$ are unknowns. \n",
    "\n",
    "In your efforts to make sense of ([1](#mjx-eqn-asset_model)), you apply a transformation $X_{n+1}=\\log\\left(S_{n+1}\\right)$ to your data. \n",
    "\n",
    "This looks promising so you decide to try this transformation on the data you have.\n",
    "\n",
    "**6. (15 points)** Derive an expression for $X_n$ using (1). Estimate $\\alpha$ and $\\beta$ for equation (1) using least square method. \n"
   ]
  },
  {
   "cell_type": "markdown",
   "metadata": {},
   "source": [
    "**Answer 1**\n",
    ">$$\n",
    "    X_{n+1} = \\text{(Enter your answer here)}\n",
    "$$"
   ]
  },
  {
   "cell_type": "code",
   "execution_count": 8,
   "metadata": {},
   "outputs": [],
   "source": [
    "# Implement your computations below\n",
    "\n",
    "X = None # Xn\n",
    "\n",
    "# Implement least square method\n",
    "\n",
    "# Implement your plots below\n",
    "\n"
   ]
  },
  {
   "cell_type": "markdown",
   "metadata": {},
   "source": [
    "**7. (10 points)** For a single realization of $S_{n}$ for $k=3$, compute its auto-correlation function $r_{x}({l})$ and plot it for various values of $l$. Verify whether **Properties 5.8 - 5.10** apply to this process.\n",
    "\n",
    "**Note:** if the signal $s(n)$ is auto-correlation ergodic,\n",
    "the auto-correlation function $r_s(l)$ can be estimated as\n",
    "(if we have only values $s_1, s_2, \\dots, s_N$):\n",
    "\n",
    "$$\n",
    "    r_s(l) = \\frac{1}{N-l} \\sum_{i=l+1}^{N} s(i) s^*(i-l)\n",
    "$$\n",
    "\n",
    "\n",
    "**Note:** if you are unfamiliar with python, take care when copying `np.arrays`. Read more [here](https://numpy.org/doc/stable/reference/generated/numpy.copy.html).\n",
    "\n",
    "**Note:** You are not allowed to use the built-in function `np.correlate()`."
   ]
  },
  {
   "cell_type": "code",
   "execution_count": 7,
   "metadata": {},
   "outputs": [],
   "source": [
    "# Implement your computations below \n",
    "\n",
    "r_S = None\n",
    "\n",
    "# Implement your plots below\n",
    "\n",
    "\n"
   ]
  },
  {
   "cell_type": "markdown",
   "metadata": {},
   "source": [
    "> (Enter your answer here)"
   ]
  },
  {
   "cell_type": "markdown",
   "metadata": {},
   "source": [
    "**8. (15 points)** Take two time instances of $S_{n}$, e.g. for $n=\\{35,65\\}$, and plot their 2d histogram across $K$ realizations $\\{S_{n}^{k}\\}_{k=1}^{K}$ by using 32 bins. Can you adequately fit a multivariate normal distribution on this histogram?\n",
    "\n",
    "\n",
    "**Hint:** You may want to look into multivariate_normal.pdf() to help plot the levels of fitting distribution in 2D. To plot the experimental values, you may use plt.hist2d()."
   ]
  },
  {
   "cell_type": "code",
   "execution_count": 13,
   "metadata": {},
   "outputs": [],
   "source": [
    "# Implement your plots below"
   ]
  }
 ],
 "metadata": {
  "interpreter": {
   "hash": "767d51c1340bd893661ea55ea3124f6de3c7a262a8b4abca0554b478b1e2ff90"
  },
  "kernelspec": {
   "display_name": "Python 3 (ipykernel)",
   "language": "python",
   "name": "python3"
  },
  "language_info": {
   "codemirror_mode": {
    "name": "ipython",
    "version": 3
   },
   "file_extension": ".py",
   "mimetype": "text/x-python",
   "name": "python",
   "nbconvert_exporter": "python",
   "pygments_lexer": "ipython3",
   "version": "3.9.19"
  },
  "toc-autonumbering": false,
  "toc-showtags": false
 },
 "nbformat": 4,
 "nbformat_minor": 4
}
